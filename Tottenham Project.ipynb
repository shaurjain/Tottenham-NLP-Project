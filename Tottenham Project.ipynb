{
 "cells": [
  {
   "cell_type": "code",
   "execution_count": 54,
   "metadata": {},
   "outputs": [
    {
     "name": "stderr",
     "output_type": "stream",
     "text": [
      "[nltk_data] Downloading package punkt to\n",
      "[nltk_data]     /Users/VasundharaJain/nltk_data...\n",
      "[nltk_data]   Package punkt is already up-to-date!\n",
      "[nltk_data] Downloading package wordnet to\n",
      "[nltk_data]     /Users/VasundharaJain/nltk_data...\n",
      "[nltk_data]   Package wordnet is already up-to-date!\n"
     ]
    }
   ],
   "source": [
    "import tweepy\n",
    "from textblob import TextBlob\n",
    "import pandas as pd\n",
    "import sys\n",
    "import csv\n",
    "import numpy as np\n",
    "import re\n",
    "import matplotlib.pyplot as plt\n",
    "import nltk\n",
    "nltk.download('punkt')\n",
    "nltk.download('wordnet')\n",
    "from nltk import sent_tokenize, word_tokenize\n",
    "from nltk.stem.snowball import SnowballStemmer\n",
    "from nltk.stem.wordnet import WordNetLemmatizer\n",
    "from nltk.corpus import stopwords\n",
    "import pandas as pd\n",
    "import numpy as np\n",
    "import spacy\n",
    "import pandas as pd \n",
    "import pandas as pd\n",
    "import matplotlib.pyplot as plt\n",
    "%matplotlib inline\n",
    "from sklearn.model_selection import train_test_split\n",
    "from sklearn.preprocessing import LabelEncoder\n",
    "from sklearn.metrics import confusion_matrix, classification_report, accuracy_score\n",
    "import nltk\n",
    "from nltk.corpus import stopwords\n",
    "from  nltk.stem import SnowballStemmer\n",
    "import re\n",
    "import os\n",
    "from collections import Counter\n",
    "import logging\n",
    "import time\n",
    "import pickle\n",
    "import itertools\n",
    "from PIL import Image\n",
    "from wordcloud import WordCloud,STOPWORDS\n",
    "from sklearn.metrics import precision_score\n",
    "from sklearn.metrics import recall_score\n",
    "from sklearn.metrics import f1_score\n",
    "from sklearn.ensemble import RandomForestClassifier, GradientBoostingClassifier\n",
    "from sklearn.model_selection import cross_val_score\n",
    "from sklearn.svm import SVC\n",
    "from sklearn.tree import DecisionTreeClassifier\n",
    "from sklearn.neighbors import KNeighborsClassifier\n",
    "from sklearn.naive_bayes import GaussianNB\n",
    "from sklearn.linear_model import LogisticRegression\n",
    "import seaborn as sns\n",
    "from sklearn.feature_extraction.text import TfidfVectorizer\n",
    "from sklearn.model_selection import GridSearchCV\n",
    "from textblob import Word\n",
    "from nltk.corpus import stopwords\n",
    "from nltk.stem.porter import *\n",
    "from sklearn.feature_extraction.text import CountVectorizer"
   ]
  },
  {
   "cell_type": "markdown",
   "metadata": {},
   "source": [
    "### This project aims to create a model that predicts the sentiment of Tottenham Hotspur fans on the appointment of Nuno Espirito Santos as the new manager of the club. This model would then be used to do a sentiment analysis of a Tottenham hostpur fan page.\n",
    "\n",
    "#### The initial data to create the model will be base on the replies of the following Tweet: https://twitter.com/SpursOfficial/status/1410317279598944263"
   ]
  },
  {
   "cell_type": "markdown",
   "metadata": {},
   "source": [
    "# Data Collection using Twitter API"
   ]
  },
  {
   "cell_type": "code",
   "execution_count": 67,
   "metadata": {},
   "outputs": [],
   "source": [
    "secrets = pd.read_csv(\"secrets.csv\")\n",
    "\n",
    "api_key=secrets[\"api_key\"][0]\n",
    "api_secret = secrets[\"api_secret\"][0]\n",
    "access_key = secrets[\"access_key\"][0]\n",
    "access_secret = secrets[\"access_secret\"][0]\n",
    "\n",
    "auth = tweepy.OAuthHandler(api_key,api_secret)\n",
    "auth.set_access_token(access_key,access_secret)\n",
    "api = tweepy.API(auth,wait_on_rate_limit=True)\n",
    "\n",
    "# Importing secrets and initiating a connection with Twitter API"
   ]
  },
  {
   "cell_type": "code",
   "execution_count": 131,
   "metadata": {},
   "outputs": [],
   "source": [
    "name = 'spursofficial'\n",
    "tweet_id = '1410317279598944263'\n",
    "replies=[]\n",
    "for tweet in tweepy.Cursor(api.search,q='to:'+name, result_type='recent').items():\n",
    "    if hasattr(tweet, 'in_reply_to_status_id_str'):\n",
    "        if (tweet.in_reply_to_status_id_str==tweet_id):\n",
    "            replies.append(tweet)\n",
    "            \n",
    "reply_list = []\n",
    "for reply in replies:\n",
    "    reply_list.append((reply.user.screen_name, reply.text, reply.source, reply.user.name, reply.user.followers_count, reply.user.location, reply.lang))\n",
    "    \n",
    "# Storing all replies to the Tottenham announcement of Nuno appointment"
   ]
  },
  {
   "cell_type": "code",
   "execution_count": 424,
   "metadata": {},
   "outputs": [
    {
     "data": {
      "text/plain": [
       "1447"
      ]
     },
     "execution_count": 424,
     "metadata": {},
     "output_type": "execute_result"
    }
   ],
   "source": [
    "len(reply_list)"
   ]
  },
  {
   "cell_type": "code",
   "execution_count": 425,
   "metadata": {},
   "outputs": [],
   "source": [
    "df = pd.DataFrame(reply_list,columns =[\"UserID\",\"Tweet\",\"Source\",\"Name\",\"Followers\",\"Location\",\"Language\"])"
   ]
  },
  {
   "cell_type": "code",
   "execution_count": 164,
   "metadata": {
    "scrolled": true
   },
   "outputs": [
    {
     "data": {
      "text/html": [
       "<div>\n",
       "<style scoped>\n",
       "    .dataframe tbody tr th:only-of-type {\n",
       "        vertical-align: middle;\n",
       "    }\n",
       "\n",
       "    .dataframe tbody tr th {\n",
       "        vertical-align: top;\n",
       "    }\n",
       "\n",
       "    .dataframe thead th {\n",
       "        text-align: right;\n",
       "    }\n",
       "</style>\n",
       "<table border=\"1\" class=\"dataframe\">\n",
       "  <thead>\n",
       "    <tr style=\"text-align: right;\">\n",
       "      <th></th>\n",
       "      <th>UserID</th>\n",
       "      <th>Tweet</th>\n",
       "      <th>Source</th>\n",
       "      <th>Name</th>\n",
       "      <th>Followers</th>\n",
       "      <th>Location</th>\n",
       "      <th>Language</th>\n",
       "    </tr>\n",
       "  </thead>\n",
       "  <tbody>\n",
       "    <tr>\n",
       "      <th>0</th>\n",
       "      <td>Raihan22458141</td>\n",
       "      <td>@SpursOfficial He looks like my barber u bottl...</td>\n",
       "      <td>Twitter for iPhone</td>\n",
       "      <td>Raihan</td>\n",
       "      <td>5</td>\n",
       "      <td>NaN</td>\n",
       "      <td>en</td>\n",
       "    </tr>\n",
       "    <tr>\n",
       "      <th>1</th>\n",
       "      <td>UmerulFarook4</td>\n",
       "      <td>@SpursOfficial https://t.co/IixqmNh8VP</td>\n",
       "      <td>Twitter for Android</td>\n",
       "      <td>Umerul Farook</td>\n",
       "      <td>0</td>\n",
       "      <td>NaN</td>\n",
       "      <td>und</td>\n",
       "    </tr>\n",
       "    <tr>\n",
       "      <th>2</th>\n",
       "      <td>ham61403822</td>\n",
       "      <td>@SpursOfficial Les goo</td>\n",
       "      <td>Twitter for iPhone</td>\n",
       "      <td>ndomballer.</td>\n",
       "      <td>0</td>\n",
       "      <td>NaN</td>\n",
       "      <td>en</td>\n",
       "    </tr>\n",
       "    <tr>\n",
       "      <th>3</th>\n",
       "      <td>Patson73677209</td>\n",
       "      <td>@SpursOfficial welcome Nuno</td>\n",
       "      <td>Twitter for Android</td>\n",
       "      <td>Patson</td>\n",
       "      <td>1</td>\n",
       "      <td>NaN</td>\n",
       "      <td>tl</td>\n",
       "    </tr>\n",
       "    <tr>\n",
       "      <th>4</th>\n",
       "      <td>Essexren</td>\n",
       "      <td>@SpursOfficial Good luck hope is helps towards...</td>\n",
       "      <td>Twitter for Android</td>\n",
       "      <td>Renee</td>\n",
       "      <td>28</td>\n",
       "      <td>NaN</td>\n",
       "      <td>en</td>\n",
       "    </tr>\n",
       "  </tbody>\n",
       "</table>\n",
       "</div>"
      ],
      "text/plain": [
       "           UserID                                              Tweet  \\\n",
       "0  Raihan22458141  @SpursOfficial He looks like my barber u bottl...   \n",
       "1   UmerulFarook4             @SpursOfficial https://t.co/IixqmNh8VP   \n",
       "2     ham61403822                             @SpursOfficial Les goo   \n",
       "3  Patson73677209                        @SpursOfficial welcome Nuno   \n",
       "4        Essexren  @SpursOfficial Good luck hope is helps towards...   \n",
       "\n",
       "                Source           Name  Followers Location Language  \n",
       "0   Twitter for iPhone         Raihan          5      NaN       en  \n",
       "1  Twitter for Android  Umerul Farook          0      NaN      und  \n",
       "2   Twitter for iPhone    ndomballer.          0      NaN       en  \n",
       "3  Twitter for Android         Patson          1      NaN       tl  \n",
       "4  Twitter for Android          Renee         28      NaN       en  "
      ]
     },
     "execution_count": 164,
     "metadata": {},
     "output_type": "execute_result"
    }
   ],
   "source": [
    "df.head()"
   ]
  },
  {
   "cell_type": "markdown",
   "metadata": {},
   "source": [
    "# Data cleaning"
   ]
  },
  {
   "cell_type": "code",
   "execution_count": 165,
   "metadata": {},
   "outputs": [],
   "source": [
    "df['Tweet'] = df['Tweet'].str[15:]\n",
    "# Removing '@SpursOfficial' from the beginning of every Tweet"
   ]
  },
  {
   "cell_type": "code",
   "execution_count": 166,
   "metadata": {},
   "outputs": [],
   "source": [
    "df =df.drop([\"UserID\", \"Name\"], axis=1) # Dropping UserID and Name columns"
   ]
  },
  {
   "cell_type": "code",
   "execution_count": 167,
   "metadata": {},
   "outputs": [
    {
     "data": {
      "text/plain": [
       "583"
      ]
     },
     "execution_count": 167,
     "metadata": {},
     "output_type": "execute_result"
    }
   ],
   "source": [
    "df.Location.isna().sum()"
   ]
  },
  {
   "cell_type": "code",
   "execution_count": 168,
   "metadata": {},
   "outputs": [],
   "source": [
    "df =df.drop([\"Location\"], axis=1) #Dropping Location column as a huge proportion of the observations lack a location"
   ]
  },
  {
   "cell_type": "code",
   "execution_count": 169,
   "metadata": {},
   "outputs": [
    {
     "data": {
      "text/plain": [
       "Twitter for iPhone     704\n",
       "Twitter for Android    576\n",
       "Twitter Web App        140\n",
       "Twitter for iPad        22\n",
       "TweetDeck                4\n",
       "Twitter for Mac          1\n",
       "Name: Source, dtype: int64"
      ]
     },
     "execution_count": 169,
     "metadata": {},
     "output_type": "execute_result"
    }
   ],
   "source": [
    "df.Source.value_counts()"
   ]
  },
  {
   "cell_type": "code",
   "execution_count": null,
   "metadata": {},
   "outputs": [],
   "source": [
    "def source(text):\n",
    "    if \"iPhone\" in text:\n",
    "        return \"iPhone\"\n",
    "    if \"Android\" in text:\n",
    "        return \"Android\"\n",
    "    if \"Web App\" in text:\n",
    "        return \"Web App\"\n",
    "    if \"TweetDeck\" in text:\n",
    "        return \"TweetDeck\"\n",
    "    if \"Mac\" in text:\n",
    "        return \"Mac\"\n",
    "    \n",
    "df[\"Source\"] = df[\"Source\"].apply(source)\n",
    "\n",
    "# Shortening the Source column for ease"
   ]
  },
  {
   "cell_type": "code",
   "execution_count": null,
   "metadata": {},
   "outputs": [],
   "source": [
    "def check_img(tweet):\n",
    "    tweetlist = tweet.split()\n",
    "    \n",
    "    for component in tweetlist:\n",
    "        if \"https://\" in component:\n",
    "            tweetlist.remove(component)\n",
    "    return \" \".join(tweetlist)\n",
    "    \n",
    "    \n",
    "df[\"Tweet\"] = df[\"Tweet\"].apply(check_img)\n",
    "df = df[df.Tweet != \"\"]\n",
    "df =df.reset_index().drop(\"index\", axis=1) \n",
    "\n",
    "# Removing any pictures from the Tweets and retaining only the text. Removing all Tweets that have no text but only picture(s)\n",
    "\n"
   ]
  },
  {
   "cell_type": "code",
   "execution_count": 164,
   "metadata": {},
   "outputs": [
    {
     "data": {
      "text/html": [
       "<div>\n",
       "<style scoped>\n",
       "    .dataframe tbody tr th:only-of-type {\n",
       "        vertical-align: middle;\n",
       "    }\n",
       "\n",
       "    .dataframe tbody tr th {\n",
       "        vertical-align: top;\n",
       "    }\n",
       "\n",
       "    .dataframe thead th {\n",
       "        text-align: right;\n",
       "    }\n",
       "</style>\n",
       "<table border=\"1\" class=\"dataframe\">\n",
       "  <thead>\n",
       "    <tr style=\"text-align: right;\">\n",
       "      <th></th>\n",
       "      <th>Tweet</th>\n",
       "      <th>Source</th>\n",
       "      <th>Followers</th>\n",
       "      <th>Sentiment</th>\n",
       "      <th>label</th>\n",
       "      <th>processed_tweet</th>\n",
       "    </tr>\n",
       "  </thead>\n",
       "  <tbody>\n",
       "    <tr>\n",
       "      <th>0</th>\n",
       "      <td>look like barber bottlejobs shit</td>\n",
       "      <td>iPhone</td>\n",
       "      <td>5</td>\n",
       "      <td>Not positive</td>\n",
       "      <td>0</td>\n",
       "      <td>look like barber bottlejobs shit</td>\n",
       "    </tr>\n",
       "    <tr>\n",
       "      <th>1</th>\n",
       "      <td>le goo</td>\n",
       "      <td>iPhone</td>\n",
       "      <td>0</td>\n",
       "      <td>Positive</td>\n",
       "      <td>1</td>\n",
       "      <td>le goo</td>\n",
       "    </tr>\n",
       "    <tr>\n",
       "      <th>2</th>\n",
       "      <td>good luck hope help towards good season ahead</td>\n",
       "      <td>Android</td>\n",
       "      <td>28</td>\n",
       "      <td>Positive</td>\n",
       "      <td>1</td>\n",
       "      <td>good luck hope help towards good season ahead</td>\n",
       "    </tr>\n",
       "    <tr>\n",
       "      <th>3</th>\n",
       "      <td>business expected</td>\n",
       "      <td>Android</td>\n",
       "      <td>3</td>\n",
       "      <td>Not positive</td>\n",
       "      <td>0</td>\n",
       "      <td>business expected</td>\n",
       "    </tr>\n",
       "    <tr>\n",
       "      <th>4</th>\n",
       "      <td>tottenham fan really like nuno separate like m...</td>\n",
       "      <td>Web App</td>\n",
       "      <td>5</td>\n",
       "      <td>Positive</td>\n",
       "      <td>1</td>\n",
       "      <td>tottenham fan really like nuno separate like m...</td>\n",
       "    </tr>\n",
       "    <tr>\n",
       "      <th>...</th>\n",
       "      <td>...</td>\n",
       "      <td>...</td>\n",
       "      <td>...</td>\n",
       "      <td>...</td>\n",
       "      <td>...</td>\n",
       "      <td>...</td>\n",
       "    </tr>\n",
       "    <tr>\n",
       "      <th>962</th>\n",
       "      <td>man get sancho arsenal getting good player cit...</td>\n",
       "      <td>iPhone</td>\n",
       "      <td>904</td>\n",
       "      <td>Not positive</td>\n",
       "      <td>0</td>\n",
       "      <td>man get sancho arsenal getting good player cit...</td>\n",
       "    </tr>\n",
       "    <tr>\n",
       "      <th>963</th>\n",
       "      <td>nuno dream</td>\n",
       "      <td>iPhone</td>\n",
       "      <td>90</td>\n",
       "      <td>Positive</td>\n",
       "      <td>1</td>\n",
       "      <td>nuno dream</td>\n",
       "    </tr>\n",
       "    <tr>\n",
       "      <th>964</th>\n",
       "      <td>finished</td>\n",
       "      <td>iPhone</td>\n",
       "      <td>31</td>\n",
       "      <td>Not positive</td>\n",
       "      <td>0</td>\n",
       "      <td>finished</td>\n",
       "    </tr>\n",
       "    <tr>\n",
       "      <th>965</th>\n",
       "      <td>trash</td>\n",
       "      <td>Web App</td>\n",
       "      <td>0</td>\n",
       "      <td>Not positive</td>\n",
       "      <td>0</td>\n",
       "      <td>trash</td>\n",
       "    </tr>\n",
       "    <tr>\n",
       "      <th>966</th>\n",
       "      <td>tottenham news</td>\n",
       "      <td>Android</td>\n",
       "      <td>279</td>\n",
       "      <td>Not positive</td>\n",
       "      <td>0</td>\n",
       "      <td>tottenham news</td>\n",
       "    </tr>\n",
       "  </tbody>\n",
       "</table>\n",
       "<p>967 rows × 6 columns</p>\n",
       "</div>"
      ],
      "text/plain": [
       "                                                 Tweet   Source  Followers  \\\n",
       "0                     look like barber bottlejobs shit   iPhone          5   \n",
       "1                                               le goo   iPhone          0   \n",
       "2        good luck hope help towards good season ahead  Android         28   \n",
       "3                                    business expected  Android          3   \n",
       "4    tottenham fan really like nuno separate like m...  Web App          5   \n",
       "..                                                 ...      ...        ...   \n",
       "962  man get sancho arsenal getting good player cit...   iPhone        904   \n",
       "963                                         nuno dream   iPhone         90   \n",
       "964                                           finished   iPhone         31   \n",
       "965                                              trash  Web App          0   \n",
       "966                                     tottenham news  Android        279   \n",
       "\n",
       "        Sentiment  label                                    processed_tweet  \n",
       "0    Not positive      0                   look like barber bottlejobs shit  \n",
       "1        Positive      1                                             le goo  \n",
       "2        Positive      1      good luck hope help towards good season ahead  \n",
       "3    Not positive      0                                  business expected  \n",
       "4        Positive      1  tottenham fan really like nuno separate like m...  \n",
       "..            ...    ...                                                ...  \n",
       "962  Not positive      0  man get sancho arsenal getting good player cit...  \n",
       "963      Positive      1                                         nuno dream  \n",
       "964  Not positive      0                                           finished  \n",
       "965  Not positive      0                                              trash  \n",
       "966  Not positive      0                                     tottenham news  \n",
       "\n",
       "[967 rows x 6 columns]"
      ]
     },
     "execution_count": 164,
     "metadata": {},
     "output_type": "execute_result"
    }
   ],
   "source": [
    "df"
   ]
  },
  {
   "cell_type": "code",
   "execution_count": 172,
   "metadata": {},
   "outputs": [],
   "source": [
    "import re\n",
    "\n",
    "emoji_pat = '[\\U0001F300-\\U0001F64F\\U0001F680-\\U0001F6FF\\u2600-\\u26FF\\u2700-\\u27BF]'\n",
    "shrink_whitespace_reg = re.compile(r'\\s{2,}')\n",
    "\n",
    "def clean_text(raw_text):\n",
    "    reg = re.compile(r'({})|[^a-zA-Z\\'’`]'.format(emoji_pat)) # line a\n",
    "    result = reg.sub(lambda x: ' {} '.format(x.group(1)) if x.group(1) else ' ', raw_text)\n",
    "    return shrink_whitespace_reg.sub(' ', result)\n",
    "\n",
    "df[\"Tweet\"]=df[\"Tweet\"].apply(clean_text)\n",
    "df = df[df.Tweet.str.strip() != \"\"]\n",
    "df =df.reset_index().drop(\"index\", axis=1)\n",
    "\n",
    "\n",
    "\n",
    "# Removing everything but alphabets and emojis. Removing tweets with only numbers and/or special characters (excluding emojis) "
   ]
  },
  {
   "cell_type": "code",
   "execution_count": 173,
   "metadata": {},
   "outputs": [],
   "source": [
    "df = df[df[\"Language\"] == \"en\"]\n",
    "df = df.drop(\"Language\", axis=1) #Removing non english Tweets"
   ]
  },
  {
   "cell_type": "code",
   "execution_count": 174,
   "metadata": {
    "scrolled": true
   },
   "outputs": [
    {
     "data": {
      "text/html": [
       "<div>\n",
       "<style scoped>\n",
       "    .dataframe tbody tr th:only-of-type {\n",
       "        vertical-align: middle;\n",
       "    }\n",
       "\n",
       "    .dataframe tbody tr th {\n",
       "        vertical-align: top;\n",
       "    }\n",
       "\n",
       "    .dataframe thead th {\n",
       "        text-align: right;\n",
       "    }\n",
       "</style>\n",
       "<table border=\"1\" class=\"dataframe\">\n",
       "  <thead>\n",
       "    <tr style=\"text-align: right;\">\n",
       "      <th></th>\n",
       "      <th>Tweet</th>\n",
       "      <th>Source</th>\n",
       "      <th>Followers</th>\n",
       "    </tr>\n",
       "  </thead>\n",
       "  <tbody>\n",
       "    <tr>\n",
       "      <th>0</th>\n",
       "      <td>He looks like my barber u bottlejobs shit club</td>\n",
       "      <td>iPhone</td>\n",
       "      <td>5</td>\n",
       "    </tr>\n",
       "    <tr>\n",
       "      <th>1</th>\n",
       "      <td>Les goo</td>\n",
       "      <td>iPhone</td>\n",
       "      <td>0</td>\n",
       "    </tr>\n",
       "    <tr>\n",
       "      <th>3</th>\n",
       "      <td>Good luck hope is helps towards a good season ...</td>\n",
       "      <td>Android</td>\n",
       "      <td>28</td>\n",
       "    </tr>\n",
       "    <tr>\n",
       "      <th>4</th>\n",
       "      <td>Business club as expected</td>\n",
       "      <td>Android</td>\n",
       "      <td>3</td>\n",
       "    </tr>\n",
       "    <tr>\n",
       "      <th>5</th>\n",
       "      <td>Not a Tottenham fan but I really like Nuno 😲 h...</td>\n",
       "      <td>Web App</td>\n",
       "      <td>5</td>\n",
       "    </tr>\n",
       "  </tbody>\n",
       "</table>\n",
       "</div>"
      ],
      "text/plain": [
       "                                               Tweet   Source  Followers\n",
       "0     He looks like my barber u bottlejobs shit club   iPhone          5\n",
       "1                                            Les goo   iPhone          0\n",
       "3  Good luck hope is helps towards a good season ...  Android         28\n",
       "4                         Business club as expected   Android          3\n",
       "5  Not a Tottenham fan but I really like Nuno 😲 h...  Web App          5"
      ]
     },
     "execution_count": 174,
     "metadata": {},
     "output_type": "execute_result"
    }
   ],
   "source": [
    "df.head()"
   ]
  },
  {
   "cell_type": "code",
   "execution_count": 175,
   "metadata": {},
   "outputs": [],
   "source": [
    "df.to_csv(\"clean_data.csv\") # Downloading the dataset for labelling"
   ]
  },
  {
   "cell_type": "code",
   "execution_count": 183,
   "metadata": {},
   "outputs": [
    {
     "data": {
      "text/html": [
       "<div>\n",
       "<style scoped>\n",
       "    .dataframe tbody tr th:only-of-type {\n",
       "        vertical-align: middle;\n",
       "    }\n",
       "\n",
       "    .dataframe tbody tr th {\n",
       "        vertical-align: top;\n",
       "    }\n",
       "\n",
       "    .dataframe thead th {\n",
       "        text-align: right;\n",
       "    }\n",
       "</style>\n",
       "<table border=\"1\" class=\"dataframe\">\n",
       "  <thead>\n",
       "    <tr style=\"text-align: right;\">\n",
       "      <th></th>\n",
       "      <th>Tweet</th>\n",
       "      <th>Source</th>\n",
       "      <th>Followers</th>\n",
       "      <th>Sentiment</th>\n",
       "    </tr>\n",
       "  </thead>\n",
       "  <tbody>\n",
       "    <tr>\n",
       "      <th>0</th>\n",
       "      <td>He looks like my barber u bottlejobs shit club</td>\n",
       "      <td>iPhone</td>\n",
       "      <td>5</td>\n",
       "      <td>Not positive</td>\n",
       "    </tr>\n",
       "    <tr>\n",
       "      <th>1</th>\n",
       "      <td>Les goo</td>\n",
       "      <td>iPhone</td>\n",
       "      <td>0</td>\n",
       "      <td>Positive</td>\n",
       "    </tr>\n",
       "    <tr>\n",
       "      <th>2</th>\n",
       "      <td>Good luck hope is helps towards a good season ...</td>\n",
       "      <td>Android</td>\n",
       "      <td>28</td>\n",
       "      <td>Positive</td>\n",
       "    </tr>\n",
       "    <tr>\n",
       "      <th>3</th>\n",
       "      <td>Business club as expected</td>\n",
       "      <td>Android</td>\n",
       "      <td>3</td>\n",
       "      <td>Not positive</td>\n",
       "    </tr>\n",
       "    <tr>\n",
       "      <th>4</th>\n",
       "      <td>Not a Tottenham fan but I really like Nuno 😲 h...</td>\n",
       "      <td>Web App</td>\n",
       "      <td>5</td>\n",
       "      <td>Positive</td>\n",
       "    </tr>\n",
       "  </tbody>\n",
       "</table>\n",
       "</div>"
      ],
      "text/plain": [
       "                                               Tweet   Source  Followers  \\\n",
       "0     He looks like my barber u bottlejobs shit club   iPhone          5   \n",
       "1                                            Les goo   iPhone          0   \n",
       "2  Good luck hope is helps towards a good season ...  Android         28   \n",
       "3                         Business club as expected   Android          3   \n",
       "4  Not a Tottenham fan but I really like Nuno 😲 h...  Web App          5   \n",
       "\n",
       "      Sentiment  \n",
       "0  Not positive  \n",
       "1      Positive  \n",
       "2      Positive  \n",
       "3  Not positive  \n",
       "4      Positive  "
      ]
     },
     "execution_count": 183,
     "metadata": {},
     "output_type": "execute_result"
    }
   ],
   "source": [
    "df = pd.read_csv(\"clean_data_2.csv\") # Importing Labelled dataset\n",
    "df = df.drop([\"Unnamed: 0\", \"Temp\"], axis=1)\n",
    "df.head()"
   ]
  },
  {
   "cell_type": "code",
   "execution_count": 184,
   "metadata": {},
   "outputs": [
    {
     "name": "stdout",
     "output_type": "stream",
     "text": [
      "0       he looks like my barber u bottlejobs shit club\n",
      "1                                              les goo\n",
      "2    good luck hope is helps towards a good season ...\n",
      "3                            business club as expected\n",
      "4    not a tottenham fan but i really like nuno 😲 h...\n",
      "Name: Tweet, dtype: object\n"
     ]
    }
   ],
   "source": [
    "def lower_case(df):\n",
    "    df['Tweet'] = df['Tweet'].apply(lambda x: \" \".join(x.lower() for x in x.split()))\n",
    "    print(df['Tweet'].head())\n",
    "    \n",
    "lower_case(df) #Converting everything to lowercase\n",
    "\n"
   ]
  },
  {
   "cell_type": "code",
   "execution_count": 185,
   "metadata": {},
   "outputs": [
    {
     "name": "stdout",
     "output_type": "stream",
     "text": [
      "0             looks like barber u bottlejobs shit club\n",
      "1                                              les goo\n",
      "2       good luck hope helps towards good season ahead\n",
      "3                               business club expected\n",
      "4    tottenham fan really like nuno 😲 separate mana...\n",
      "Name: Tweet, dtype: object\n"
     ]
    }
   ],
   "source": [
    "stop = stopwords.words('english')\n",
    "def stop_words_removal(df):\n",
    "    df['Tweet'] = df['Tweet'].apply(lambda x: \" \".join(x for x in x.split() if x not in stop))\n",
    "    print(df['Tweet'].head())\n",
    "    \n",
    "stop_words_removal(df) #Removing Stop Words"
   ]
  },
  {
   "cell_type": "code",
   "execution_count": 186,
   "metadata": {},
   "outputs": [
    {
     "data": {
      "text/html": [
       "<div>\n",
       "<style scoped>\n",
       "    .dataframe tbody tr th:only-of-type {\n",
       "        vertical-align: middle;\n",
       "    }\n",
       "\n",
       "    .dataframe tbody tr th {\n",
       "        vertical-align: top;\n",
       "    }\n",
       "\n",
       "    .dataframe thead th {\n",
       "        text-align: right;\n",
       "    }\n",
       "</style>\n",
       "<table border=\"1\" class=\"dataframe\">\n",
       "  <thead>\n",
       "    <tr style=\"text-align: right;\">\n",
       "      <th></th>\n",
       "      <th>Tweet</th>\n",
       "      <th>Source</th>\n",
       "      <th>Followers</th>\n",
       "      <th>Sentiment</th>\n",
       "    </tr>\n",
       "  </thead>\n",
       "  <tbody>\n",
       "    <tr>\n",
       "      <th>0</th>\n",
       "      <td>looks like barber bottlejobs shit club</td>\n",
       "      <td>iPhone</td>\n",
       "      <td>5</td>\n",
       "      <td>Not positive</td>\n",
       "    </tr>\n",
       "    <tr>\n",
       "      <th>1</th>\n",
       "      <td>les goo</td>\n",
       "      <td>iPhone</td>\n",
       "      <td>0</td>\n",
       "      <td>Positive</td>\n",
       "    </tr>\n",
       "    <tr>\n",
       "      <th>2</th>\n",
       "      <td>good luck hope helps towards good season ahead</td>\n",
       "      <td>Android</td>\n",
       "      <td>28</td>\n",
       "      <td>Positive</td>\n",
       "    </tr>\n",
       "    <tr>\n",
       "      <th>3</th>\n",
       "      <td>business club expected</td>\n",
       "      <td>Android</td>\n",
       "      <td>3</td>\n",
       "      <td>Not positive</td>\n",
       "    </tr>\n",
       "    <tr>\n",
       "      <th>4</th>\n",
       "      <td>tottenham fan really like nuno separate manage...</td>\n",
       "      <td>Web App</td>\n",
       "      <td>5</td>\n",
       "      <td>Positive</td>\n",
       "    </tr>\n",
       "  </tbody>\n",
       "</table>\n",
       "</div>"
      ],
      "text/plain": [
       "                                               Tweet   Source  Followers  \\\n",
       "0             looks like barber bottlejobs shit club   iPhone          5   \n",
       "1                                            les goo   iPhone          0   \n",
       "2     good luck hope helps towards good season ahead  Android         28   \n",
       "3                             business club expected  Android          3   \n",
       "4  tottenham fan really like nuno separate manage...  Web App          5   \n",
       "\n",
       "      Sentiment  \n",
       "0  Not positive  \n",
       "1      Positive  \n",
       "2      Positive  \n",
       "3  Not positive  \n",
       "4      Positive  "
      ]
     },
     "execution_count": 186,
     "metadata": {},
     "output_type": "execute_result"
    }
   ],
   "source": [
    "def remove_single_character_words(text):\n",
    "    split_list = text.split()\n",
    "    output_list = []\n",
    "    for i in range(len(split_list)):\n",
    "        if len(split_list[i]) > 1:\n",
    "            output_list.append(split_list[i])\n",
    "            \n",
    "    return \" \".join(output_list)\n",
    "\n",
    "df[\"Tweet\"]=df[\"Tweet\"].apply(remove_single_character_words) #Removing single character words\n",
    "\n",
    "df.head()"
   ]
  },
  {
   "cell_type": "code",
   "execution_count": 7,
   "metadata": {},
   "outputs": [
    {
     "data": {
      "image/png": "[encoded data removed]",
      "text/plain": [
       "<Figure size 936x936 with 1 Axes>"
      ]
     },
     "metadata": {
      "needs_background": "light"
     },
     "output_type": "display_data"
    }
   ],
   "source": [
    "def wordcloud_draw(data, color = 'black'):\n",
    "    words = ' '.join(data)\n",
    "    cleaned_word = \" \".join([word for word in words.split()\n",
    "                            if 'http' not in word\n",
    "                                and not word.startswith('@')\n",
    "                                and not word.startswith('#')\n",
    "                                and word != 'RT'\n",
    "                            ])\n",
    "    wordcloud = WordCloud(stopwords=STOPWORDS,\n",
    "                      background_color=color,\n",
    "                      width=2500,\n",
    "                      height=2000\n",
    "                     ).generate(cleaned_word)\n",
    "    plt.figure(1,figsize=(13, 13))\n",
    "    plt.imshow(wordcloud)\n",
    "    plt.axis('off')\n",
    "    plt.show()\n",
    "    \n",
    "wordcloud_draw(df.Tweet,'white')\n",
    "\n",
    "# Creating a Wordcloud to see the most frequently used words\n"
   ]
  },
  {
   "cell_type": "code",
   "execution_count": 8,
   "metadata": {
    "scrolled": false
   },
   "outputs": [
    {
     "data": {
      "image/png": "[encoded data removed]",
      "text/plain": [
       "<Figure size 936x936 with 1 Axes>"
      ]
     },
     "metadata": {
      "needs_background": "light"
     },
     "output_type": "display_data"
    }
   ],
   "source": [
    "logo_mask = np.array(Image.open(\"logo.jpg\"))\n",
    "\n",
    "\n",
    "\n",
    "def wordcloud_draw(data, color = 'black'):\n",
    "    words = ' '.join(data)\n",
    "    cleaned_word = \" \".join([word for word in words.split()\n",
    "                            if 'http' not in word\n",
    "                                and not word.startswith('@')\n",
    "                                and not word.startswith('#')\n",
    "                                and word != 'RT'\n",
    "                            ])\n",
    "    wordcloud = WordCloud(stopwords=STOPWORDS,\n",
    "                      background_color=color, mask = logo_mask,\n",
    "                      width=2500,\n",
    "                      height=2000\n",
    "                     ).generate(cleaned_word)\n",
    "    plt.figure(1,figsize=(13, 13))\n",
    "    plt.imshow(wordcloud)\n",
    "    plt.axis('off')\n",
    "    plt.show()\n",
    "    \n",
    "wordcloud_draw(df.Tweet,'white')\n",
    "\n",
    "# Forming a wordcloud in the shape of the Tottenham Logo"
   ]
  },
  {
   "cell_type": "markdown",
   "metadata": {},
   "source": [
    "### While there are positive words like 'Welcome' and 'Good', there are some negative ones like 'underwhelming' and 'downgrade'."
   ]
  },
  {
   "cell_type": "code",
   "execution_count": 187,
   "metadata": {},
   "outputs": [
    {
     "data": {
      "text/plain": [
       "nuno       144\n",
       "welcome    102\n",
       "good        91\n",
       "club        88\n",
       "manager     78\n",
       "spurs       68\n",
       "luck        53\n",
       "back        50\n",
       "get         48\n",
       "coys        43\n",
       "dtype: int64"
      ]
     },
     "execution_count": 187,
     "metadata": {},
     "output_type": "execute_result"
    }
   ],
   "source": [
    "freq = pd.Series(' '.join(df['Tweet']).split()).value_counts()[:10]\n",
    "freq"
   ]
  },
  {
   "cell_type": "code",
   "execution_count": 188,
   "metadata": {},
   "outputs": [
    {
     "name": "stdout",
     "output_type": "stream",
     "text": [
      "0                    looks like barber bottlejobs shit\n",
      "1                                              les goo\n",
      "2       good luck hope helps towards good season ahead\n",
      "3                                    business expected\n",
      "4    tottenham fan really like nuno separate like m...\n",
      "Name: Tweet, dtype: object\n"
     ]
    }
   ],
   "source": [
    "freq =  [\"Spurs\",\"club\",\"manager\",\"Nuno\"]\n",
    "def frequent_words_removal(df):    \n",
    "    df['Tweet'] = df['Tweet'].apply(lambda x: \" \".join(x for x in x.split() if x not in freq))\n",
    "    print(df['Tweet'].head())\n",
    "    \n",
    "frequent_words_removal(df)\n",
    "\n",
    "# Removing the most frequently used words that wouldn't help in comparing positive and non-positive tweets"
   ]
  },
  {
   "cell_type": "code",
   "execution_count": 189,
   "metadata": {},
   "outputs": [
    {
     "name": "stdout",
     "output_type": "stream",
     "text": [
      "0                     look like barber bottlejobs shit\n",
      "1                                               le goo\n",
      "2        good luck hope help towards good season ahead\n",
      "3                                    business expected\n",
      "4    tottenham fan really like nuno separate like m...\n",
      "Name: Tweet, dtype: object\n"
     ]
    }
   ],
   "source": [
    "def lemmatization(df):\n",
    "    df['Tweet'] = df['Tweet'].apply(lambda x: \" \".join([Word(word).lemmatize() for word in x.split()]))\n",
    "    print(df['Tweet'].head())\n",
    "    \n",
    "lemmatization(df)\n",
    "# Shortening words to their lemmas"
   ]
  },
  {
   "cell_type": "code",
   "execution_count": 13,
   "metadata": {
    "scrolled": true
   },
   "outputs": [
    {
     "data": {
      "text/plain": [
       "Text(0.5, 1.0, 'Dataset labels distribuition')"
      ]
     },
     "execution_count": 13,
     "metadata": {},
     "output_type": "execute_result"
    },
    {
     "data": {
      "image/png": "[encoded data removed]",
      "text/plain": [
       "<Figure size 576x288 with 1 Axes>"
      ]
     },
     "metadata": {
      "needs_background": "light"
     },
     "output_type": "display_data"
    }
   ],
   "source": [
    "target_cnt = Counter(df.Sentiment)\n",
    "\n",
    "plt.figure(figsize=(8,4))\n",
    "plt.bar(target_cnt.keys(), target_cnt.values())\n",
    "plt.title(\"Dataset labels distribuition\")"
   ]
  },
  {
   "cell_type": "markdown",
   "metadata": {},
   "source": [
    "#### The distribution of Positive and Non-positive tweets looks almost equal. No balancing is required."
   ]
  },
  {
   "cell_type": "code",
   "execution_count": 14,
   "metadata": {},
   "outputs": [
    {
     "data": {
      "text/html": [
       "<div>\n",
       "<style scoped>\n",
       "    .dataframe tbody tr th:only-of-type {\n",
       "        vertical-align: middle;\n",
       "    }\n",
       "\n",
       "    .dataframe tbody tr th {\n",
       "        vertical-align: top;\n",
       "    }\n",
       "\n",
       "    .dataframe thead th {\n",
       "        text-align: right;\n",
       "    }\n",
       "</style>\n",
       "<table border=\"1\" class=\"dataframe\">\n",
       "  <thead>\n",
       "    <tr style=\"text-align: right;\">\n",
       "      <th></th>\n",
       "      <th></th>\n",
       "      <th>Tweet</th>\n",
       "    </tr>\n",
       "    <tr>\n",
       "      <th>Sentiment</th>\n",
       "      <th>Source</th>\n",
       "      <th></th>\n",
       "    </tr>\n",
       "  </thead>\n",
       "  <tbody>\n",
       "    <tr>\n",
       "      <th rowspan=\"4\" valign=\"top\">Not positive</th>\n",
       "      <th>Android</th>\n",
       "      <td>204</td>\n",
       "    </tr>\n",
       "    <tr>\n",
       "      <th>TweetDeck</th>\n",
       "      <td>1</td>\n",
       "    </tr>\n",
       "    <tr>\n",
       "      <th>Web App</th>\n",
       "      <td>51</td>\n",
       "    </tr>\n",
       "    <tr>\n",
       "      <th>iPhone</th>\n",
       "      <td>249</td>\n",
       "    </tr>\n",
       "    <tr>\n",
       "      <th rowspan=\"4\" valign=\"top\">Positive</th>\n",
       "      <th>Android</th>\n",
       "      <td>178</td>\n",
       "    </tr>\n",
       "    <tr>\n",
       "      <th>TweetDeck</th>\n",
       "      <td>2</td>\n",
       "    </tr>\n",
       "    <tr>\n",
       "      <th>Web App</th>\n",
       "      <td>44</td>\n",
       "    </tr>\n",
       "    <tr>\n",
       "      <th>iPhone</th>\n",
       "      <td>221</td>\n",
       "    </tr>\n",
       "  </tbody>\n",
       "</table>\n",
       "</div>"
      ],
      "text/plain": [
       "                        Tweet\n",
       "Sentiment    Source          \n",
       "Not positive Android      204\n",
       "             TweetDeck      1\n",
       "             Web App       51\n",
       "             iPhone       249\n",
       "Positive     Android      178\n",
       "             TweetDeck      2\n",
       "             Web App       44\n",
       "             iPhone       221"
      ]
     },
     "execution_count": 14,
     "metadata": {},
     "output_type": "execute_result"
    }
   ],
   "source": [
    "pd.pivot_table(df, index = [\"Sentiment\", \"Source\"], values=\"Tweet\",  aggfunc = \"count\")"
   ]
  },
  {
   "cell_type": "markdown",
   "metadata": {},
   "source": [
    "#### The distribution of both positive and non-positive are identical across the different platforms"
   ]
  },
  {
   "cell_type": "code",
   "execution_count": 15,
   "metadata": {
    "scrolled": true
   },
   "outputs": [
    {
     "data": {
      "text/html": [
       "<div>\n",
       "<style scoped>\n",
       "    .dataframe tbody tr th:only-of-type {\n",
       "        vertical-align: middle;\n",
       "    }\n",
       "\n",
       "    .dataframe tbody tr th {\n",
       "        vertical-align: top;\n",
       "    }\n",
       "\n",
       "    .dataframe thead tr th {\n",
       "        text-align: left;\n",
       "    }\n",
       "\n",
       "    .dataframe thead tr:last-of-type th {\n",
       "        text-align: right;\n",
       "    }\n",
       "</style>\n",
       "<table border=\"1\" class=\"dataframe\">\n",
       "  <thead>\n",
       "    <tr>\n",
       "      <th></th>\n",
       "      <th>mean</th>\n",
       "      <th>median</th>\n",
       "    </tr>\n",
       "    <tr>\n",
       "      <th></th>\n",
       "      <th>Followers</th>\n",
       "      <th>Followers</th>\n",
       "    </tr>\n",
       "    <tr>\n",
       "      <th>Sentiment</th>\n",
       "      <th></th>\n",
       "      <th></th>\n",
       "    </tr>\n",
       "  </thead>\n",
       "  <tbody>\n",
       "    <tr>\n",
       "      <th>Not positive</th>\n",
       "      <td>1062.836257</td>\n",
       "      <td>189.0</td>\n",
       "    </tr>\n",
       "    <tr>\n",
       "      <th>Positive</th>\n",
       "      <td>637.165198</td>\n",
       "      <td>151.5</td>\n",
       "    </tr>\n",
       "  </tbody>\n",
       "</table>\n",
       "</div>"
      ],
      "text/plain": [
       "                     mean    median\n",
       "                Followers Followers\n",
       "Sentiment                          \n",
       "Not positive  1062.836257     189.0\n",
       "Positive       637.165198     151.5"
      ]
     },
     "execution_count": 15,
     "metadata": {},
     "output_type": "execute_result"
    }
   ],
   "source": [
    "pd.pivot_table(df, index = [\"Sentiment\"], values=\"Followers\",  aggfunc = [\"mean\",\"median\"])"
   ]
  },
  {
   "cell_type": "markdown",
   "metadata": {},
   "source": [
    "#### The median Followers of people in either categories aren't very different. However, the mean is very high. Perhaps, some users with high following (Influencers) have replied  non-positively"
   ]
  },
  {
   "cell_type": "code",
   "execution_count": 16,
   "metadata": {
    "scrolled": true
   },
   "outputs": [
    {
     "data": {
      "text/plain": [
       "<seaborn.axisgrid.FacetGrid at 0x1a50809ed0>"
      ]
     },
     "execution_count": 16,
     "metadata": {},
     "output_type": "execute_result"
    },
    {
     "data": {
      "image/png": "[encoded data removed]",
      "text/plain": [
       "<Figure size 360x360 with 1 Axes>"
      ]
     },
     "metadata": {
      "needs_background": "light"
     },
     "output_type": "display_data"
    }
   ],
   "source": [
    "sns.catplot(x=\"Sentiment\", y=\"Followers\", data=df)"
   ]
  },
  {
   "cell_type": "code",
   "execution_count": 17,
   "metadata": {},
   "outputs": [
    {
     "data": {
      "text/html": [
       "<div>\n",
       "<style scoped>\n",
       "    .dataframe tbody tr th:only-of-type {\n",
       "        vertical-align: middle;\n",
       "    }\n",
       "\n",
       "    .dataframe tbody tr th {\n",
       "        vertical-align: top;\n",
       "    }\n",
       "\n",
       "    .dataframe thead th {\n",
       "        text-align: right;\n",
       "    }\n",
       "</style>\n",
       "<table border=\"1\" class=\"dataframe\">\n",
       "  <thead>\n",
       "    <tr style=\"text-align: right;\">\n",
       "      <th></th>\n",
       "      <th>Tweet</th>\n",
       "      <th>Source</th>\n",
       "      <th>Followers</th>\n",
       "      <th>Sentiment</th>\n",
       "    </tr>\n",
       "  </thead>\n",
       "  <tbody>\n",
       "    <tr>\n",
       "      <th>387</th>\n",
       "      <td>daniel levy spoken reverting back dna playing ...</td>\n",
       "      <td>iPhone</td>\n",
       "      <td>64657</td>\n",
       "      <td>Not positive</td>\n",
       "    </tr>\n",
       "    <tr>\n",
       "      <th>430</th>\n",
       "      <td>feel like christmas day get sock job warm snug...</td>\n",
       "      <td>Android</td>\n",
       "      <td>94498</td>\n",
       "      <td>Not positive</td>\n",
       "    </tr>\n",
       "  </tbody>\n",
       "</table>\n",
       "</div>"
      ],
      "text/plain": [
       "                                                 Tweet   Source  Followers  \\\n",
       "387  daniel levy spoken reverting back dna playing ...   iPhone      64657   \n",
       "430  feel like christmas day get sock job warm snug...  Android      94498   \n",
       "\n",
       "        Sentiment  \n",
       "387  Not positive  \n",
       "430  Not positive  "
      ]
     },
     "execution_count": 17,
     "metadata": {},
     "output_type": "execute_result"
    }
   ],
   "source": [
    "df[df[\"Followers\"] > 45000]"
   ]
  },
  {
   "cell_type": "markdown",
   "metadata": {},
   "source": [
    "#### These influencers with a high follower count are clearly unhappy with the appointment of the new Tottenham manager"
   ]
  },
  {
   "cell_type": "code",
   "execution_count": 18,
   "metadata": {},
   "outputs": [],
   "source": [
    "df[\"label\"] = np.where(df[\"Sentiment\"] == \"Positive\",1,0) # Creating Binary variable for the label"
   ]
  },
  {
   "cell_type": "code",
   "execution_count": 190,
   "metadata": {},
   "outputs": [
    {
     "data": {
      "text/plain": [
       "0                 [look, like, barber, bottlejobs, shit]\n",
       "1                                              [le, goo]\n",
       "2      [good, luck, hope, help, towards, good, season...\n",
       "3                                   [business, expected]\n",
       "4      [tottenham, fan, really, like, nuno, separate,...\n",
       "                             ...                        \n",
       "962    [man, get, sancho, arsenal, getting, good, pla...\n",
       "963                                        [nuno, dream]\n",
       "964                                           [finished]\n",
       "965                                              [trash]\n",
       "966                                    [tottenham, news]\n",
       "Name: Tweet, Length: 967, dtype: object"
      ]
     },
     "execution_count": 190,
     "metadata": {},
     "output_type": "execute_result"
    }
   ],
   "source": [
    "tokenized_tweet = df.Tweet.apply(lambda x: x.split())\n",
    "tokenized_tweet #Tokenizing each Tweet"
   ]
  },
  {
   "cell_type": "markdown",
   "metadata": {},
   "source": [
    "stemmer = PorterStemmer()\n",
    "tokenized_tweet = tokenized_tweet.apply(lambda x: [stemmer.stem(i) for i in x])\n",
    "tokenized_tweet #Stemming the tweets"
   ]
  },
  {
   "cell_type": "code",
   "execution_count": 20,
   "metadata": {},
   "outputs": [],
   "source": [
    "for i in range(len(tokenized_tweet)):\n",
    "    tokenized_tweet[i] = \" \".join(tokenized_tweet[i])\n",
    "    \n",
    "df[\"processed_tweet\"] = tokenized_tweet"
   ]
  },
  {
   "cell_type": "markdown",
   "metadata": {},
   "source": [
    "# Modelling"
   ]
  },
  {
   "cell_type": "code",
   "execution_count": 21,
   "metadata": {},
   "outputs": [
    {
     "data": {
      "text/html": [
       "<div>\n",
       "<style scoped>\n",
       "    .dataframe tbody tr th:only-of-type {\n",
       "        vertical-align: middle;\n",
       "    }\n",
       "\n",
       "    .dataframe tbody tr th {\n",
       "        vertical-align: top;\n",
       "    }\n",
       "\n",
       "    .dataframe thead th {\n",
       "        text-align: right;\n",
       "    }\n",
       "</style>\n",
       "<table border=\"1\" class=\"dataframe\">\n",
       "  <thead>\n",
       "    <tr style=\"text-align: right;\">\n",
       "      <th></th>\n",
       "      <th>0</th>\n",
       "      <th>1</th>\n",
       "      <th>2</th>\n",
       "      <th>3</th>\n",
       "      <th>4</th>\n",
       "      <th>5</th>\n",
       "      <th>6</th>\n",
       "      <th>7</th>\n",
       "      <th>8</th>\n",
       "      <th>9</th>\n",
       "      <th>...</th>\n",
       "      <th>1455</th>\n",
       "      <th>1456</th>\n",
       "      <th>1457</th>\n",
       "      <th>1458</th>\n",
       "      <th>1459</th>\n",
       "      <th>1460</th>\n",
       "      <th>1461</th>\n",
       "      <th>1462</th>\n",
       "      <th>1463</th>\n",
       "      <th>1464</th>\n",
       "    </tr>\n",
       "  </thead>\n",
       "  <tbody>\n",
       "    <tr>\n",
       "      <th>0</th>\n",
       "      <td>0</td>\n",
       "      <td>0</td>\n",
       "      <td>0</td>\n",
       "      <td>0</td>\n",
       "      <td>0</td>\n",
       "      <td>0</td>\n",
       "      <td>0</td>\n",
       "      <td>0</td>\n",
       "      <td>0</td>\n",
       "      <td>0</td>\n",
       "      <td>...</td>\n",
       "      <td>0</td>\n",
       "      <td>0</td>\n",
       "      <td>0</td>\n",
       "      <td>0</td>\n",
       "      <td>0</td>\n",
       "      <td>0</td>\n",
       "      <td>0</td>\n",
       "      <td>0</td>\n",
       "      <td>0</td>\n",
       "      <td>0</td>\n",
       "    </tr>\n",
       "    <tr>\n",
       "      <th>1</th>\n",
       "      <td>0</td>\n",
       "      <td>0</td>\n",
       "      <td>0</td>\n",
       "      <td>0</td>\n",
       "      <td>0</td>\n",
       "      <td>0</td>\n",
       "      <td>0</td>\n",
       "      <td>0</td>\n",
       "      <td>0</td>\n",
       "      <td>0</td>\n",
       "      <td>...</td>\n",
       "      <td>0</td>\n",
       "      <td>0</td>\n",
       "      <td>0</td>\n",
       "      <td>0</td>\n",
       "      <td>0</td>\n",
       "      <td>0</td>\n",
       "      <td>0</td>\n",
       "      <td>0</td>\n",
       "      <td>0</td>\n",
       "      <td>0</td>\n",
       "    </tr>\n",
       "    <tr>\n",
       "      <th>2</th>\n",
       "      <td>0</td>\n",
       "      <td>0</td>\n",
       "      <td>0</td>\n",
       "      <td>0</td>\n",
       "      <td>0</td>\n",
       "      <td>0</td>\n",
       "      <td>0</td>\n",
       "      <td>0</td>\n",
       "      <td>0</td>\n",
       "      <td>0</td>\n",
       "      <td>...</td>\n",
       "      <td>0</td>\n",
       "      <td>0</td>\n",
       "      <td>0</td>\n",
       "      <td>0</td>\n",
       "      <td>0</td>\n",
       "      <td>0</td>\n",
       "      <td>0</td>\n",
       "      <td>0</td>\n",
       "      <td>0</td>\n",
       "      <td>0</td>\n",
       "    </tr>\n",
       "    <tr>\n",
       "      <th>3</th>\n",
       "      <td>0</td>\n",
       "      <td>0</td>\n",
       "      <td>0</td>\n",
       "      <td>0</td>\n",
       "      <td>0</td>\n",
       "      <td>0</td>\n",
       "      <td>0</td>\n",
       "      <td>0</td>\n",
       "      <td>0</td>\n",
       "      <td>0</td>\n",
       "      <td>...</td>\n",
       "      <td>0</td>\n",
       "      <td>0</td>\n",
       "      <td>0</td>\n",
       "      <td>0</td>\n",
       "      <td>0</td>\n",
       "      <td>0</td>\n",
       "      <td>0</td>\n",
       "      <td>0</td>\n",
       "      <td>0</td>\n",
       "      <td>0</td>\n",
       "    </tr>\n",
       "    <tr>\n",
       "      <th>4</th>\n",
       "      <td>0</td>\n",
       "      <td>0</td>\n",
       "      <td>0</td>\n",
       "      <td>0</td>\n",
       "      <td>0</td>\n",
       "      <td>0</td>\n",
       "      <td>0</td>\n",
       "      <td>0</td>\n",
       "      <td>0</td>\n",
       "      <td>0</td>\n",
       "      <td>...</td>\n",
       "      <td>0</td>\n",
       "      <td>0</td>\n",
       "      <td>0</td>\n",
       "      <td>0</td>\n",
       "      <td>0</td>\n",
       "      <td>0</td>\n",
       "      <td>0</td>\n",
       "      <td>0</td>\n",
       "      <td>0</td>\n",
       "      <td>0</td>\n",
       "    </tr>\n",
       "  </tbody>\n",
       "</table>\n",
       "<p>5 rows × 1465 columns</p>\n",
       "</div>"
      ],
      "text/plain": [
       "   0     1     2     3     4     5     6     7     8     9     ...  1455  \\\n",
       "0     0     0     0     0     0     0     0     0     0     0  ...     0   \n",
       "1     0     0     0     0     0     0     0     0     0     0  ...     0   \n",
       "2     0     0     0     0     0     0     0     0     0     0  ...     0   \n",
       "3     0     0     0     0     0     0     0     0     0     0  ...     0   \n",
       "4     0     0     0     0     0     0     0     0     0     0  ...     0   \n",
       "\n",
       "   1456  1457  1458  1459  1460  1461  1462  1463  1464  \n",
       "0     0     0     0     0     0     0     0     0     0  \n",
       "1     0     0     0     0     0     0     0     0     0  \n",
       "2     0     0     0     0     0     0     0     0     0  \n",
       "3     0     0     0     0     0     0     0     0     0  \n",
       "4     0     0     0     0     0     0     0     0     0  \n",
       "\n",
       "[5 rows x 1465 columns]"
      ]
     },
     "execution_count": 21,
     "metadata": {},
     "output_type": "execute_result"
    }
   ],
   "source": [
    "bow_vectorizer = CountVectorizer()\n",
    "bow = bow_vectorizer.fit_transform(df.Tweet)\n",
    "count_feat = pd.DataFrame(bow.toarray())\n",
    "count_feat.head() # Using Count Vectorizer"
   ]
  },
  {
   "cell_type": "code",
   "execution_count": 191,
   "metadata": {},
   "outputs": [
    {
     "data": {
      "text/html": [
       "<div>\n",
       "<style scoped>\n",
       "    .dataframe tbody tr th:only-of-type {\n",
       "        vertical-align: middle;\n",
       "    }\n",
       "\n",
       "    .dataframe tbody tr th {\n",
       "        vertical-align: top;\n",
       "    }\n",
       "\n",
       "    .dataframe thead th {\n",
       "        text-align: right;\n",
       "    }\n",
       "</style>\n",
       "<table border=\"1\" class=\"dataframe\">\n",
       "  <thead>\n",
       "    <tr style=\"text-align: right;\">\n",
       "      <th></th>\n",
       "      <th>0</th>\n",
       "      <th>1</th>\n",
       "      <th>2</th>\n",
       "      <th>3</th>\n",
       "      <th>4</th>\n",
       "      <th>5</th>\n",
       "      <th>6</th>\n",
       "      <th>7</th>\n",
       "      <th>8</th>\n",
       "      <th>9</th>\n",
       "      <th>...</th>\n",
       "      <th>1455</th>\n",
       "      <th>1456</th>\n",
       "      <th>1457</th>\n",
       "      <th>1458</th>\n",
       "      <th>1459</th>\n",
       "      <th>1460</th>\n",
       "      <th>1461</th>\n",
       "      <th>1462</th>\n",
       "      <th>1463</th>\n",
       "      <th>1464</th>\n",
       "    </tr>\n",
       "  </thead>\n",
       "  <tbody>\n",
       "    <tr>\n",
       "      <th>0</th>\n",
       "      <td>0.0</td>\n",
       "      <td>0.0</td>\n",
       "      <td>0.0</td>\n",
       "      <td>0.0</td>\n",
       "      <td>0.0</td>\n",
       "      <td>0.0</td>\n",
       "      <td>0.0</td>\n",
       "      <td>0.0</td>\n",
       "      <td>0.0</td>\n",
       "      <td>0.0</td>\n",
       "      <td>...</td>\n",
       "      <td>0.0</td>\n",
       "      <td>0.0</td>\n",
       "      <td>0.0</td>\n",
       "      <td>0.0</td>\n",
       "      <td>0.0</td>\n",
       "      <td>0.0</td>\n",
       "      <td>0.0</td>\n",
       "      <td>0.0</td>\n",
       "      <td>0.0</td>\n",
       "      <td>0.0</td>\n",
       "    </tr>\n",
       "    <tr>\n",
       "      <th>1</th>\n",
       "      <td>0.0</td>\n",
       "      <td>0.0</td>\n",
       "      <td>0.0</td>\n",
       "      <td>0.0</td>\n",
       "      <td>0.0</td>\n",
       "      <td>0.0</td>\n",
       "      <td>0.0</td>\n",
       "      <td>0.0</td>\n",
       "      <td>0.0</td>\n",
       "      <td>0.0</td>\n",
       "      <td>...</td>\n",
       "      <td>0.0</td>\n",
       "      <td>0.0</td>\n",
       "      <td>0.0</td>\n",
       "      <td>0.0</td>\n",
       "      <td>0.0</td>\n",
       "      <td>0.0</td>\n",
       "      <td>0.0</td>\n",
       "      <td>0.0</td>\n",
       "      <td>0.0</td>\n",
       "      <td>0.0</td>\n",
       "    </tr>\n",
       "    <tr>\n",
       "      <th>2</th>\n",
       "      <td>0.0</td>\n",
       "      <td>0.0</td>\n",
       "      <td>0.0</td>\n",
       "      <td>0.0</td>\n",
       "      <td>0.0</td>\n",
       "      <td>0.0</td>\n",
       "      <td>0.0</td>\n",
       "      <td>0.0</td>\n",
       "      <td>0.0</td>\n",
       "      <td>0.0</td>\n",
       "      <td>...</td>\n",
       "      <td>0.0</td>\n",
       "      <td>0.0</td>\n",
       "      <td>0.0</td>\n",
       "      <td>0.0</td>\n",
       "      <td>0.0</td>\n",
       "      <td>0.0</td>\n",
       "      <td>0.0</td>\n",
       "      <td>0.0</td>\n",
       "      <td>0.0</td>\n",
       "      <td>0.0</td>\n",
       "    </tr>\n",
       "    <tr>\n",
       "      <th>3</th>\n",
       "      <td>0.0</td>\n",
       "      <td>0.0</td>\n",
       "      <td>0.0</td>\n",
       "      <td>0.0</td>\n",
       "      <td>0.0</td>\n",
       "      <td>0.0</td>\n",
       "      <td>0.0</td>\n",
       "      <td>0.0</td>\n",
       "      <td>0.0</td>\n",
       "      <td>0.0</td>\n",
       "      <td>...</td>\n",
       "      <td>0.0</td>\n",
       "      <td>0.0</td>\n",
       "      <td>0.0</td>\n",
       "      <td>0.0</td>\n",
       "      <td>0.0</td>\n",
       "      <td>0.0</td>\n",
       "      <td>0.0</td>\n",
       "      <td>0.0</td>\n",
       "      <td>0.0</td>\n",
       "      <td>0.0</td>\n",
       "    </tr>\n",
       "    <tr>\n",
       "      <th>4</th>\n",
       "      <td>0.0</td>\n",
       "      <td>0.0</td>\n",
       "      <td>0.0</td>\n",
       "      <td>0.0</td>\n",
       "      <td>0.0</td>\n",
       "      <td>0.0</td>\n",
       "      <td>0.0</td>\n",
       "      <td>0.0</td>\n",
       "      <td>0.0</td>\n",
       "      <td>0.0</td>\n",
       "      <td>...</td>\n",
       "      <td>0.0</td>\n",
       "      <td>0.0</td>\n",
       "      <td>0.0</td>\n",
       "      <td>0.0</td>\n",
       "      <td>0.0</td>\n",
       "      <td>0.0</td>\n",
       "      <td>0.0</td>\n",
       "      <td>0.0</td>\n",
       "      <td>0.0</td>\n",
       "      <td>0.0</td>\n",
       "    </tr>\n",
       "  </tbody>\n",
       "</table>\n",
       "<p>5 rows × 1465 columns</p>\n",
       "</div>"
      ],
      "text/plain": [
       "   0     1     2     3     4     5     6     7     8     9     ...  1455  \\\n",
       "0   0.0   0.0   0.0   0.0   0.0   0.0   0.0   0.0   0.0   0.0  ...   0.0   \n",
       "1   0.0   0.0   0.0   0.0   0.0   0.0   0.0   0.0   0.0   0.0  ...   0.0   \n",
       "2   0.0   0.0   0.0   0.0   0.0   0.0   0.0   0.0   0.0   0.0  ...   0.0   \n",
       "3   0.0   0.0   0.0   0.0   0.0   0.0   0.0   0.0   0.0   0.0  ...   0.0   \n",
       "4   0.0   0.0   0.0   0.0   0.0   0.0   0.0   0.0   0.0   0.0  ...   0.0   \n",
       "\n",
       "   1456  1457  1458  1459  1460  1461  1462  1463  1464  \n",
       "0   0.0   0.0   0.0   0.0   0.0   0.0   0.0   0.0   0.0  \n",
       "1   0.0   0.0   0.0   0.0   0.0   0.0   0.0   0.0   0.0  \n",
       "2   0.0   0.0   0.0   0.0   0.0   0.0   0.0   0.0   0.0  \n",
       "3   0.0   0.0   0.0   0.0   0.0   0.0   0.0   0.0   0.0  \n",
       "4   0.0   0.0   0.0   0.0   0.0   0.0   0.0   0.0   0.0  \n",
       "\n",
       "[5 rows x 1465 columns]"
      ]
     },
     "execution_count": 191,
     "metadata": {},
     "output_type": "execute_result"
    }
   ],
   "source": [
    "tfidf_vectorizer= TfidfVectorizer()\n",
    "tfidf = tfidf_vectorizer.fit_transform(df.Tweet)\n",
    "tfidf_feat = pd.DataFrame(tfidf.toarray())\n",
    "tfidf_feat.head() #  Usin TF-IDF"
   ]
  },
  {
   "cell_type": "code",
   "execution_count": 23,
   "metadata": {},
   "outputs": [],
   "source": [
    "model = []\n",
    "model.append((\"LR\",LogisticRegression(random_state = 42)))\n",
    "model.append((\"RF\", RandomForestClassifier(random_state = 42)))\n",
    "model.append((\"GB\",GradientBoostingClassifier(random_state = 42)))\n",
    "model.append((\"DT\", DecisionTreeClassifier(random_state = 42)))\n",
    "model.append((\"NB\", GaussianNB()))\n",
    "model.append((\"KNN\",KNeighborsClassifier()))\n",
    "model.append((\"SVC\", SVC(random_state = 42)))"
   ]
  },
  {
   "cell_type": "code",
   "execution_count": 24,
   "metadata": {
    "scrolled": false
   },
   "outputs": [
    {
     "name": "stdout",
     "output_type": "stream",
     "text": [
      "Model is LR and Score 0.803590\n",
      "Model is RF and Score 0.667074\n",
      "Model is GB and Score 0.772550\n",
      "Model is DT and Score 0.653646\n",
      "Model is NB and Score 0.650478\n",
      "Model is KNN and Score 0.602927\n",
      "Model is SVC and Score 0.775648\n"
     ]
    }
   ],
   "source": [
    "for mod,clf in model:\n",
    "    scores = cross_val_score(clf,count_feat, df[\"Sentiment\"],scoring = \"accuracy\", cv=5)\n",
    "    print(\"Model is %s and Score %f\"%(mod, scores.mean()))"
   ]
  },
  {
   "cell_type": "code",
   "execution_count": 25,
   "metadata": {
    "scrolled": true
   },
   "outputs": [
    {
     "name": "stdout",
     "output_type": "stream",
     "text": [
      "Model is LR and Score 0.791128\n",
      "Model is RF and Score 0.676385\n",
      "Model is GB and Score 0.765312\n",
      "Model is DT and Score 0.663998\n",
      "Model is NB and Score 0.639106\n",
      "Model is KNN and Score 0.576059\n",
      "Model is SVC and Score 0.795294\n"
     ]
    }
   ],
   "source": [
    "for mod,clf in model:\n",
    "    scores = cross_val_score(clf,tfidf_feat, df[\"Sentiment\"],scoring = \"accuracy\", cv=5)\n",
    "    print(\"Model is %s and Score %f\"%(mod, scores.mean()))"
   ]
  },
  {
   "cell_type": "markdown",
   "metadata": {},
   "source": [
    "#### SVC and Logistic Regression are the best performing models"
   ]
  },
  {
   "cell_type": "code",
   "execution_count": 195,
   "metadata": {},
   "outputs": [
    {
     "data": {
      "text/plain": [
       "LogisticRegression(C=1, class_weight=None, dual=False, fit_intercept=True,\n",
       "                   intercept_scaling=1, l1_ratio=None, max_iter=100,\n",
       "                   multi_class='auto', n_jobs=None, penalty='l2',\n",
       "                   random_state=42, solver='lbfgs', tol=0.0001, verbose=0,\n",
       "                   warm_start=False)"
      ]
     },
     "execution_count": 195,
     "metadata": {},
     "output_type": "execute_result"
    }
   ],
   "source": [
    "param_grid = {'C': [ 0.001,0.01,0.1,1,10,100]}\n",
    "grid = GridSearchCV(LogisticRegression(random_state=42), param_grid, cv=5)\n",
    "grid.fit(count_feat,df[\"Sentiment\"])\n",
    "grid.best_estimator_"
   ]
  },
  {
   "cell_type": "code",
   "execution_count": 196,
   "metadata": {},
   "outputs": [
    {
     "data": {
      "text/plain": [
       "0.8035895518401794"
      ]
     },
     "execution_count": 196,
     "metadata": {},
     "output_type": "execute_result"
    }
   ],
   "source": [
    "model1 = LogisticRegression(C=1, class_weight=None, dual=False, fit_intercept=True,\n",
    "                   intercept_scaling=1, l1_ratio=None, max_iter=100,\n",
    "                   multi_class='auto', n_jobs=None, penalty='l2',\n",
    "                   random_state=42, solver='lbfgs', tol=0.0001, verbose=0,\n",
    "                   warm_start=False)\n",
    "score =  cross_val_score(model1,count_feat, df[\"Sentiment\"], scoring = \"accuracy\", cv=5)\n",
    "score.mean()"
   ]
  },
  {
   "cell_type": "code",
   "execution_count": 198,
   "metadata": {},
   "outputs": [
    {
     "data": {
      "text/plain": [
       "LogisticRegression(C=10, class_weight=None, dual=False, fit_intercept=True,\n",
       "                   intercept_scaling=1, l1_ratio=None, max_iter=5000,\n",
       "                   multi_class='auto', n_jobs=None, penalty='l2',\n",
       "                   random_state=42, solver='lbfgs', tol=0.0001, verbose=0,\n",
       "                   warm_start=False)"
      ]
     },
     "execution_count": 198,
     "metadata": {},
     "output_type": "execute_result"
    }
   ],
   "source": [
    "grid = GridSearchCV(LogisticRegression(random_state=42, max_iter = 5000), param_grid, cv=5)\n",
    "grid.fit(tfidf_feat,df[\"Sentiment\"])\n",
    "grid.best_estimator_"
   ]
  },
  {
   "cell_type": "code",
   "execution_count": 199,
   "metadata": {},
   "outputs": [
    {
     "data": {
      "text/plain": [
       "0.8211313498210565"
      ]
     },
     "execution_count": 199,
     "metadata": {},
     "output_type": "execute_result"
    }
   ],
   "source": [
    "model2 = LogisticRegression(C=10, class_weight=None, dual=False, fit_intercept=True,\n",
    "                   intercept_scaling=1, l1_ratio=None, max_iter=5000,\n",
    "                   multi_class='auto', n_jobs=None, penalty='l2',\n",
    "                   random_state=42, solver='lbfgs', tol=0.0001, verbose=0,\n",
    "                   warm_start=False)\n",
    "score =  cross_val_score(model2,tfidf_feat, df[\"Sentiment\"], scoring = \"accuracy\", cv=5)\n",
    "\n",
    "score.mean()"
   ]
  },
  {
   "cell_type": "code",
   "execution_count": 202,
   "metadata": {},
   "outputs": [
    {
     "data": {
      "text/plain": [
       "SVC(C=100, break_ties=False, cache_size=200, class_weight=None, coef0=0.0,\n",
       "    decision_function_shape='ovr', degree=3, gamma=0.01, kernel='sigmoid',\n",
       "    max_iter=-1, probability=False, random_state=42, shrinking=True, tol=0.001,\n",
       "    verbose=False)"
      ]
     },
     "execution_count": 202,
     "metadata": {},
     "output_type": "execute_result"
    }
   ],
   "source": [
    "param_grid = {'C': [0.1,1, 10, 100], 'gamma': [1,0.1,0.01,0.001],'kernel': ['rbf', 'poly', 'sigmoid']}\n",
    "grid_svc = GridSearchCV(SVC(random_state=42), param_grid=param_grid, cv=5)\n",
    "grid_svc.fit(count_feat, df[\"Sentiment\"])\n",
    "grid_svc.best_estimator_\n"
   ]
  },
  {
   "cell_type": "code",
   "execution_count": 203,
   "metadata": {},
   "outputs": [
    {
     "data": {
      "text/plain": [
       "0.7756476683937825"
      ]
     },
     "execution_count": 203,
     "metadata": {},
     "output_type": "execute_result"
    }
   ],
   "source": [
    "model3 = SVC(C=100, break_ties=False, cache_size=200, class_weight=None, coef0=0.0,\n",
    "    decision_function_shape='ovr', degree=3, gamma=0.01, kernel='sigmoid',\n",
    "    max_iter=-1, probability=False, random_state=42, shrinking=True, tol=0.001,\n",
    "    verbose=False)\n",
    "\n",
    "score =  cross_val_score(svc,count_feat, df[\"Sentiment\"], scoring = \"accuracy\", cv=5)\n",
    "\n",
    "score.mean()"
   ]
  },
  {
   "cell_type": "code",
   "execution_count": 204,
   "metadata": {},
   "outputs": [
    {
     "data": {
      "text/plain": [
       "SVC(C=10, break_ties=False, cache_size=200, class_weight=None, coef0=0.0,\n",
       "    decision_function_shape='ovr', degree=3, gamma=1, kernel='rbf', max_iter=-1,\n",
       "    probability=False, random_state=42, shrinking=True, tol=0.001,\n",
       "    verbose=False)"
      ]
     },
     "execution_count": 204,
     "metadata": {},
     "output_type": "execute_result"
    }
   ],
   "source": [
    "param_grid = {'C': [0.1,1, 10, 100], 'gamma': [1,0.1,0.01,0.001],'kernel': ['rbf', 'poly', 'sigmoid']}\n",
    "grid_svc = GridSearchCV(SVC(random_state=42), param_grid=param_grid, cv=5)\n",
    "grid_svc.fit(tfidf_feat, df[\"Sentiment\"])\n",
    "grid_svc.best_estimator_\n",
    "\n"
   ]
  },
  {
   "cell_type": "code",
   "execution_count": 398,
   "metadata": {},
   "outputs": [
    {
     "data": {
      "text/plain": [
       "0.7932054911596603"
      ]
     },
     "execution_count": 398,
     "metadata": {},
     "output_type": "execute_result"
    }
   ],
   "source": [
    "model4 = SVC(C=1, break_ties=False, cache_size=200, class_weight=None, coef0=0.0,\n",
    "    decision_function_shape='ovr', degree=3, gamma=1, kernel='rbf', max_iter=-1,\n",
    "    probability=False, random_state=42, shrinking=True, tol=0.001,\n",
    "    verbose=False)\n",
    "\n",
    "score =  cross_val_score(svc,tfidf_feat, df[\"Sentiment\"], scoring = \"accuracy\", cv=5)\n",
    "\n",
    "score.mean()"
   ]
  },
  {
   "cell_type": "code",
   "execution_count": 26,
   "metadata": {},
   "outputs": [],
   "source": [
    "best_model = LogisticRegression(C=10, class_weight=None, dual=False, fit_intercept=True,\n",
    "                   intercept_scaling=1, l1_ratio=None, max_iter=5000,\n",
    "                   multi_class='auto', n_jobs=None, penalty='l2',\n",
    "                   random_state=42, solver='lbfgs', tol=0.0001, verbose=0,\n",
    "                   warm_start=False)"
   ]
  },
  {
   "cell_type": "markdown",
   "metadata": {},
   "source": [
    "best_model = model1 = LogisticRegression(C=1, class_weight=None, dual=False, fit_intercept=True,\n",
    "                   intercept_scaling=1, l1_ratio=None, max_iter=100,\n",
    "                   multi_class='auto', n_jobs=None, penalty='l2',\n",
    "                   random_state=42, solver='lbfgs', tol=0.0001, verbose=0,\n",
    "                   warm_start=False)"
   ]
  },
  {
   "cell_type": "code",
   "execution_count": 27,
   "metadata": {},
   "outputs": [],
   "source": [
    "X_train, X_test, y_train, y_test = train_test_split(tfidf_feat, df[\"label\"],test_size = 0.2, random_state = 42)"
   ]
  },
  {
   "cell_type": "code",
   "execution_count": 49,
   "metadata": {},
   "outputs": [
    {
     "data": {
      "image/png": "[encoded data removed]",
      "text/plain": [
       "<Figure size 432x288 with 2 Axes>"
      ]
     },
     "metadata": {},
     "output_type": "display_data"
    }
   ],
   "source": [
    "best_model.fit(X_train, y_train)\n",
    "predictions = best_model.predict(X_test)\n",
    "sns.set(font_scale=1.5)\n",
    "cm = confusion_matrix(predictions, y_test)\n",
    "labels = ['True Neg','False Neg','False Pos','True Pos']\n",
    "labels = np.asarray(labels).reshape(2,2)\n",
    "sns.heatmap(cm, annot=labels, fmt='', cmap='Blues')\n",
    "plt.show()"
   ]
  },
  {
   "cell_type": "code",
   "execution_count": 50,
   "metadata": {},
   "outputs": [
    {
     "name": "stdout",
     "output_type": "stream",
     "text": [
      "Accuracy: 0.814433\n",
      "Precision: 0.818182\n",
      "Recall: 0.782609\n",
      "F1 score: 0.800000\n"
     ]
    }
   ],
   "source": [
    "accuracy = accuracy_score(y_test, predictions)\n",
    "print('Accuracy: %f' % accuracy)\n",
    "precision = precision_score(y_test, predictions)\n",
    "print('Precision: %f' % precision)\n",
    "recall = recall_score(y_test, predictions)\n",
    "print('Recall: %f' % recall)\n",
    "f1 = f1_score(y_test, predictions)\n",
    "print('F1 score: %f' % f1)"
   ]
  },
  {
   "cell_type": "markdown",
   "metadata": {},
   "source": [
    "# Using the model\n",
    "\n",
    "#### The dataset used to create the model are replies from Tottenham Hotspur's official announcement on Twitter. There are hundreds of Tottenham Twitter fan pages that had their own discussion regarding the signing. Data can be scraped from these groups to check how they reacted to the signing. Tottenham's management would certainly want to keep their fanbase happy. To this end, Twitter communities that are highly unhappy with he signing can be given special season pass/ ticket offers.\n",
    "\n",
    "#### In particular, there are country/region specific Tottenham Hotspur official accounts where the announcement was made simultaneously. This model can help determine regions where fans are happy and one where fans aren't.\n",
    "\n",
    "#### Here I show the reaction by the followers of a Tottenham Hotspur Pundit - Expressions Oozing\n",
    "\n",
    "#### Link to the Tweet - https://twitter.com/ExpressionsOOZ/status/1410319956261146626"
   ]
  },
  {
   "cell_type": "code",
   "execution_count": null,
   "metadata": {},
   "outputs": [],
   "source": [
    "name = 'ExpressionsOOZ'\n",
    "tweet_id = '1410319956261146626'\n",
    "replies=[]\n",
    "for tweet in tweepy.Cursor(api.search,q='to:'+name, result_type='recent').items():\n",
    "    if hasattr(tweet, 'in_reply_to_status_id_str'):\n",
    "        if (tweet.in_reply_to_status_id_str==tweet_id):\n",
    "            replies.append(tweet)\n",
    "            \n",
    "reply_list = []\n",
    "for reply in replies:\n",
    "    reply_list.append((reply.user.screen_name, reply.text, reply.source, reply.user.name, reply.user.followers_count, reply.user.location, reply.lang))\n",
    "    \n",
    "exp_df = pd.DataFrame(reply_list,columns =[\"UserID\",\"Tweet\",\"Source\",\"Name\",\"Followers\",\"Location\",\"Language\"])"
   ]
  },
  {
   "cell_type": "code",
   "execution_count": null,
   "metadata": {},
   "outputs": [],
   "source": [
    "exp_df[\"Tweet\"] = exp_df[\"Tweet\"].str[15:] #Removing @ExpressionsOOZ from the beginning of every Tweet"
   ]
  },
  {
   "cell_type": "code",
   "execution_count": 179,
   "metadata": {
    "scrolled": true
   },
   "outputs": [
    {
     "data": {
      "text/html": [
       "<div>\n",
       "<style scoped>\n",
       "    .dataframe tbody tr th:only-of-type {\n",
       "        vertical-align: middle;\n",
       "    }\n",
       "\n",
       "    .dataframe tbody tr th {\n",
       "        vertical-align: top;\n",
       "    }\n",
       "\n",
       "    .dataframe thead th {\n",
       "        text-align: right;\n",
       "    }\n",
       "</style>\n",
       "<table border=\"1\" class=\"dataframe\">\n",
       "  <thead>\n",
       "    <tr style=\"text-align: right;\">\n",
       "      <th></th>\n",
       "      <th>UserID</th>\n",
       "      <th>Tweet</th>\n",
       "      <th>Source</th>\n",
       "      <th>Name</th>\n",
       "      <th>Followers</th>\n",
       "      <th>Location</th>\n",
       "      <th>Language</th>\n",
       "    </tr>\n",
       "  </thead>\n",
       "  <tbody>\n",
       "    <tr>\n",
       "      <th>0</th>\n",
       "      <td>AndrewCoyle8</td>\n",
       "      <td>I’ll back him, will the club ?</td>\n",
       "      <td>Twitter for iPhone</td>\n",
       "      <td>BAMOFO</td>\n",
       "      <td>88</td>\n",
       "      <td>Earth</td>\n",
       "      <td>en</td>\n",
       "    </tr>\n",
       "    <tr>\n",
       "      <th>1</th>\n",
       "      <td>AlanRClarke3</td>\n",
       "      <td>BTEC Mourinho, underwhelming pretty much expec...</td>\n",
       "      <td>Twitter for iPhone</td>\n",
       "      <td>AlanClarke86</td>\n",
       "      <td>103</td>\n",
       "      <td>NaN</td>\n",
       "      <td>en</td>\n",
       "    </tr>\n",
       "    <tr>\n",
       "      <th>2</th>\n",
       "      <td>coylernumero1</td>\n",
       "      <td>Let's give the man a chance, personally I'm gl...</td>\n",
       "      <td>Twitter for Android</td>\n",
       "      <td>Dave Coyle</td>\n",
       "      <td>76</td>\n",
       "      <td>Dublin</td>\n",
       "      <td>en</td>\n",
       "    </tr>\n",
       "    <tr>\n",
       "      <th>3</th>\n",
       "      <td>KarlSaid3</td>\n",
       "      <td>At least doherty will be good under him</td>\n",
       "      <td>Twitter for Android</td>\n",
       "      <td>Karl Said</td>\n",
       "      <td>8</td>\n",
       "      <td>NaN</td>\n",
       "      <td>en</td>\n",
       "    </tr>\n",
       "    <tr>\n",
       "      <th>4</th>\n",
       "      <td>GBamer</td>\n",
       "      <td>More fossil football u know the rest blud only...</td>\n",
       "      <td>Twitter for Android</td>\n",
       "      <td>Gaz</td>\n",
       "      <td>117</td>\n",
       "      <td>uk</td>\n",
       "      <td>en</td>\n",
       "    </tr>\n",
       "  </tbody>\n",
       "</table>\n",
       "</div>"
      ],
      "text/plain": [
       "          UserID                                              Tweet  \\\n",
       "0   AndrewCoyle8                     I’ll back him, will the club ?   \n",
       "1   AlanRClarke3  BTEC Mourinho, underwhelming pretty much expec...   \n",
       "2  coylernumero1  Let's give the man a chance, personally I'm gl...   \n",
       "3      KarlSaid3            At least doherty will be good under him   \n",
       "4         GBamer  More fossil football u know the rest blud only...   \n",
       "\n",
       "                Source          Name  Followers Location Language  \n",
       "0   Twitter for iPhone        BAMOFO         88   Earth        en  \n",
       "1   Twitter for iPhone  AlanClarke86        103      NaN       en  \n",
       "2  Twitter for Android    Dave Coyle         76  Dublin        en  \n",
       "3  Twitter for Android     Karl Said          8      NaN       en  \n",
       "4  Twitter for Android           Gaz        117       uk       en  "
      ]
     },
     "execution_count": 179,
     "metadata": {},
     "output_type": "execute_result"
    }
   ],
   "source": [
    "exp_df.head()"
   ]
  },
  {
   "cell_type": "code",
   "execution_count": 180,
   "metadata": {
    "scrolled": true
   },
   "outputs": [
    {
     "name": "stdout",
     "output_type": "stream",
     "text": [
      "0                          i’ll back him will the club\n",
      "1    btec mourinho underwhelming pretty much expect...\n",
      "2    let's give the man a chance personally i'm gla...\n",
      "3              at least doherty will be good under him\n",
      "4    more fossil football u know the rest blud only...\n",
      "Name: Tweet, dtype: object\n",
      "0                                       i’ll back club\n",
      "1    btec mourinho underwhelming pretty much expect...\n",
      "2    let's give man chance personally i'm glad deba...\n",
      "3                                   least doherty good\n",
      "4    fossil football u know rest blud tottenham cou...\n",
      "Name: Tweet, dtype: object\n",
      "0                                            i’ll back\n",
      "1    btec mourinho underwhelming pretty much expect...\n",
      "2    let's give man chance personally i'm glad deba...\n",
      "3                                   least doherty good\n",
      "4    fossil football know rest blud tottenham could...\n",
      "Name: Tweet, dtype: object\n",
      "0                                            i’ll back\n",
      "1    btec mourinho underwhelming pretty much expect...\n",
      "2    let's give man chance personally i'm glad deba...\n",
      "3                                   least doherty good\n",
      "4    fossil football know rest blud tottenham could...\n",
      "Name: Tweet, dtype: object\n"
     ]
    },
    {
     "data": {
      "text/plain": [
       "0                                          [i’ll, back]\n",
       "1     [btec, mourinho, underwhelming, pretty, much, ...\n",
       "2     [let's, give, man, chance, personally, i'm, gl...\n",
       "3                                [least, doherty, good]\n",
       "4     [fossil, football, know, rest, blud, tottenham...\n",
       "                            ...                        \n",
       "66       [btech, jose, xg, last, season, worse, fulham]\n",
       "67                                [clear, arteta, book]\n",
       "68                                           [hahahaha]\n",
       "69    [i’m, happy, got, develops, young, player, wel...\n",
       "70                        [he’s, got, better, hairline]\n",
       "Name: Tweet, Length: 71, dtype: object"
      ]
     },
     "execution_count": 180,
     "metadata": {},
     "output_type": "execute_result"
    }
   ],
   "source": [
    "exp_df[\"Tweet\"] = exp_df[\"Tweet\"].apply(check_img) #Removing images\n",
    "exp_df = exp_df[exp_df.Tweet != \"\"]\n",
    "exp_df =exp_df.reset_index().drop(\"index\", axis=1) \n",
    "\n",
    "exp_df[\"Tweet\"]=exp_df[\"Tweet\"].apply(clean_text) #Removing numbers and special characters\n",
    "exp_df = exp_df[exp_df.Tweet.str.strip() != \"\"]\n",
    "exp_df =exp_df.reset_index().drop(\"index\", axis=1)\n",
    "\n",
    "lower_case(exp_df) #Converting everything to lowercase\n",
    "\n",
    "stop_words_removal(exp_df) #Removing Stop Words\n",
    "\n",
    "exp_df[\"Tweet\"]=exp_df[\"Tweet\"].apply(remove_single_character_words) #Removing single character words\n",
    "\n",
    "frequent_words_removal(exp_df) #Removing frequent words\n",
    "\n",
    "lemmatization(exp_df) \n",
    "\n",
    "tokenized_tweet = exp_df.Tweet.apply(lambda x: x.split())\n",
    "tokenized_tweet"
   ]
  },
  {
   "cell_type": "code",
   "execution_count": 181,
   "metadata": {
    "scrolled": false
   },
   "outputs": [
    {
     "data": {
      "text/html": [
       "<div>\n",
       "<style scoped>\n",
       "    .dataframe tbody tr th:only-of-type {\n",
       "        vertical-align: middle;\n",
       "    }\n",
       "\n",
       "    .dataframe tbody tr th {\n",
       "        vertical-align: top;\n",
       "    }\n",
       "\n",
       "    .dataframe thead th {\n",
       "        text-align: right;\n",
       "    }\n",
       "</style>\n",
       "<table border=\"1\" class=\"dataframe\">\n",
       "  <thead>\n",
       "    <tr style=\"text-align: right;\">\n",
       "      <th></th>\n",
       "      <th>UserID</th>\n",
       "      <th>Tweet</th>\n",
       "      <th>Source</th>\n",
       "      <th>Name</th>\n",
       "      <th>Followers</th>\n",
       "      <th>Location</th>\n",
       "      <th>Language</th>\n",
       "    </tr>\n",
       "  </thead>\n",
       "  <tbody>\n",
       "    <tr>\n",
       "      <th>0</th>\n",
       "      <td>AndrewCoyle8</td>\n",
       "      <td>i’ll back</td>\n",
       "      <td>Twitter for iPhone</td>\n",
       "      <td>BAMOFO</td>\n",
       "      <td>88</td>\n",
       "      <td>Earth</td>\n",
       "      <td>en</td>\n",
       "    </tr>\n",
       "    <tr>\n",
       "      <th>1</th>\n",
       "      <td>AlanRClarke3</td>\n",
       "      <td>btec mourinho underwhelming pretty much expect...</td>\n",
       "      <td>Twitter for iPhone</td>\n",
       "      <td>AlanClarke86</td>\n",
       "      <td>103</td>\n",
       "      <td>NaN</td>\n",
       "      <td>en</td>\n",
       "    </tr>\n",
       "    <tr>\n",
       "      <th>2</th>\n",
       "      <td>coylernumero1</td>\n",
       "      <td>let's give man chance personally i'm glad deba...</td>\n",
       "      <td>Twitter for Android</td>\n",
       "      <td>Dave Coyle</td>\n",
       "      <td>76</td>\n",
       "      <td>Dublin</td>\n",
       "      <td>en</td>\n",
       "    </tr>\n",
       "    <tr>\n",
       "      <th>3</th>\n",
       "      <td>KarlSaid3</td>\n",
       "      <td>least doherty good</td>\n",
       "      <td>Twitter for Android</td>\n",
       "      <td>Karl Said</td>\n",
       "      <td>8</td>\n",
       "      <td>NaN</td>\n",
       "      <td>en</td>\n",
       "    </tr>\n",
       "    <tr>\n",
       "      <th>4</th>\n",
       "      <td>GBamer</td>\n",
       "      <td>fossil football know rest blud tottenham could...</td>\n",
       "      <td>Twitter for Android</td>\n",
       "      <td>Gaz</td>\n",
       "      <td>117</td>\n",
       "      <td>uk</td>\n",
       "      <td>en</td>\n",
       "    </tr>\n",
       "  </tbody>\n",
       "</table>\n",
       "</div>"
      ],
      "text/plain": [
       "          UserID                                              Tweet  \\\n",
       "0   AndrewCoyle8                                          i’ll back   \n",
       "1   AlanRClarke3  btec mourinho underwhelming pretty much expect...   \n",
       "2  coylernumero1  let's give man chance personally i'm glad deba...   \n",
       "3      KarlSaid3                                 least doherty good   \n",
       "4         GBamer  fossil football know rest blud tottenham could...   \n",
       "\n",
       "                Source          Name  Followers Location Language  \n",
       "0   Twitter for iPhone        BAMOFO         88   Earth        en  \n",
       "1   Twitter for iPhone  AlanClarke86        103      NaN       en  \n",
       "2  Twitter for Android    Dave Coyle         76  Dublin        en  \n",
       "3  Twitter for Android     Karl Said          8      NaN       en  \n",
       "4  Twitter for Android           Gaz        117       uk       en  "
      ]
     },
     "execution_count": 181,
     "metadata": {},
     "output_type": "execute_result"
    }
   ],
   "source": [
    "exp_df.head()"
   ]
  },
  {
   "cell_type": "code",
   "execution_count": 195,
   "metadata": {},
   "outputs": [
    {
     "data": {
      "text/html": [
       "<div>\n",
       "<style scoped>\n",
       "    .dataframe tbody tr th:only-of-type {\n",
       "        vertical-align: middle;\n",
       "    }\n",
       "\n",
       "    .dataframe tbody tr th {\n",
       "        vertical-align: top;\n",
       "    }\n",
       "\n",
       "    .dataframe thead th {\n",
       "        text-align: right;\n",
       "    }\n",
       "</style>\n",
       "<table border=\"1\" class=\"dataframe\">\n",
       "  <thead>\n",
       "    <tr style=\"text-align: right;\">\n",
       "      <th></th>\n",
       "      <th>0</th>\n",
       "      <th>1</th>\n",
       "      <th>2</th>\n",
       "      <th>3</th>\n",
       "      <th>4</th>\n",
       "      <th>5</th>\n",
       "      <th>6</th>\n",
       "      <th>7</th>\n",
       "      <th>8</th>\n",
       "      <th>9</th>\n",
       "      <th>...</th>\n",
       "      <th>1455</th>\n",
       "      <th>1456</th>\n",
       "      <th>1457</th>\n",
       "      <th>1458</th>\n",
       "      <th>1459</th>\n",
       "      <th>1460</th>\n",
       "      <th>1461</th>\n",
       "      <th>1462</th>\n",
       "      <th>1463</th>\n",
       "      <th>1464</th>\n",
       "    </tr>\n",
       "  </thead>\n",
       "  <tbody>\n",
       "    <tr>\n",
       "      <th>0</th>\n",
       "      <td>0.0</td>\n",
       "      <td>0.0</td>\n",
       "      <td>0.0</td>\n",
       "      <td>0.0</td>\n",
       "      <td>0.0</td>\n",
       "      <td>0.0</td>\n",
       "      <td>0.0</td>\n",
       "      <td>0.0</td>\n",
       "      <td>0.0</td>\n",
       "      <td>0.0</td>\n",
       "      <td>...</td>\n",
       "      <td>0.0</td>\n",
       "      <td>0.0</td>\n",
       "      <td>0.0</td>\n",
       "      <td>0.0</td>\n",
       "      <td>0.0</td>\n",
       "      <td>0.0</td>\n",
       "      <td>0.0</td>\n",
       "      <td>0.0</td>\n",
       "      <td>0.0</td>\n",
       "      <td>0.0</td>\n",
       "    </tr>\n",
       "    <tr>\n",
       "      <th>1</th>\n",
       "      <td>0.0</td>\n",
       "      <td>0.0</td>\n",
       "      <td>0.0</td>\n",
       "      <td>0.0</td>\n",
       "      <td>0.0</td>\n",
       "      <td>0.0</td>\n",
       "      <td>0.0</td>\n",
       "      <td>0.0</td>\n",
       "      <td>0.0</td>\n",
       "      <td>0.0</td>\n",
       "      <td>...</td>\n",
       "      <td>0.0</td>\n",
       "      <td>0.0</td>\n",
       "      <td>0.0</td>\n",
       "      <td>0.0</td>\n",
       "      <td>0.0</td>\n",
       "      <td>0.0</td>\n",
       "      <td>0.0</td>\n",
       "      <td>0.0</td>\n",
       "      <td>0.0</td>\n",
       "      <td>0.0</td>\n",
       "    </tr>\n",
       "    <tr>\n",
       "      <th>2</th>\n",
       "      <td>0.0</td>\n",
       "      <td>0.0</td>\n",
       "      <td>0.0</td>\n",
       "      <td>0.0</td>\n",
       "      <td>0.0</td>\n",
       "      <td>0.0</td>\n",
       "      <td>0.0</td>\n",
       "      <td>0.0</td>\n",
       "      <td>0.0</td>\n",
       "      <td>0.0</td>\n",
       "      <td>...</td>\n",
       "      <td>0.0</td>\n",
       "      <td>0.0</td>\n",
       "      <td>0.0</td>\n",
       "      <td>0.0</td>\n",
       "      <td>0.0</td>\n",
       "      <td>0.0</td>\n",
       "      <td>0.0</td>\n",
       "      <td>0.0</td>\n",
       "      <td>0.0</td>\n",
       "      <td>0.0</td>\n",
       "    </tr>\n",
       "    <tr>\n",
       "      <th>3</th>\n",
       "      <td>0.0</td>\n",
       "      <td>0.0</td>\n",
       "      <td>0.0</td>\n",
       "      <td>0.0</td>\n",
       "      <td>0.0</td>\n",
       "      <td>0.0</td>\n",
       "      <td>0.0</td>\n",
       "      <td>0.0</td>\n",
       "      <td>0.0</td>\n",
       "      <td>0.0</td>\n",
       "      <td>...</td>\n",
       "      <td>0.0</td>\n",
       "      <td>0.0</td>\n",
       "      <td>0.0</td>\n",
       "      <td>0.0</td>\n",
       "      <td>0.0</td>\n",
       "      <td>0.0</td>\n",
       "      <td>0.0</td>\n",
       "      <td>0.0</td>\n",
       "      <td>0.0</td>\n",
       "      <td>0.0</td>\n",
       "    </tr>\n",
       "    <tr>\n",
       "      <th>4</th>\n",
       "      <td>0.0</td>\n",
       "      <td>0.0</td>\n",
       "      <td>0.0</td>\n",
       "      <td>0.0</td>\n",
       "      <td>0.0</td>\n",
       "      <td>0.0</td>\n",
       "      <td>0.0</td>\n",
       "      <td>0.0</td>\n",
       "      <td>0.0</td>\n",
       "      <td>0.0</td>\n",
       "      <td>...</td>\n",
       "      <td>0.0</td>\n",
       "      <td>0.0</td>\n",
       "      <td>0.0</td>\n",
       "      <td>0.0</td>\n",
       "      <td>0.0</td>\n",
       "      <td>0.0</td>\n",
       "      <td>0.0</td>\n",
       "      <td>0.0</td>\n",
       "      <td>0.0</td>\n",
       "      <td>0.0</td>\n",
       "    </tr>\n",
       "  </tbody>\n",
       "</table>\n",
       "<p>5 rows × 1465 columns</p>\n",
       "</div>"
      ],
      "text/plain": [
       "   0     1     2     3     4     5     6     7     8     9     ...  1455  \\\n",
       "0   0.0   0.0   0.0   0.0   0.0   0.0   0.0   0.0   0.0   0.0  ...   0.0   \n",
       "1   0.0   0.0   0.0   0.0   0.0   0.0   0.0   0.0   0.0   0.0  ...   0.0   \n",
       "2   0.0   0.0   0.0   0.0   0.0   0.0   0.0   0.0   0.0   0.0  ...   0.0   \n",
       "3   0.0   0.0   0.0   0.0   0.0   0.0   0.0   0.0   0.0   0.0  ...   0.0   \n",
       "4   0.0   0.0   0.0   0.0   0.0   0.0   0.0   0.0   0.0   0.0  ...   0.0   \n",
       "\n",
       "   1456  1457  1458  1459  1460  1461  1462  1463  1464  \n",
       "0   0.0   0.0   0.0   0.0   0.0   0.0   0.0   0.0   0.0  \n",
       "1   0.0   0.0   0.0   0.0   0.0   0.0   0.0   0.0   0.0  \n",
       "2   0.0   0.0   0.0   0.0   0.0   0.0   0.0   0.0   0.0  \n",
       "3   0.0   0.0   0.0   0.0   0.0   0.0   0.0   0.0   0.0  \n",
       "4   0.0   0.0   0.0   0.0   0.0   0.0   0.0   0.0   0.0  \n",
       "\n",
       "[5 rows x 1465 columns]"
      ]
     },
     "execution_count": 195,
     "metadata": {},
     "output_type": "execute_result"
    }
   ],
   "source": [
    "tfidf2 = tfidf_vectorizer.transform(exp_df.Tweet)  # Using the TF-IDF made before\n",
    "tfidf_feat2 = pd.DataFrame(tfidf2.toarray())\n",
    "tfidf_feat2.head() "
   ]
  },
  {
   "cell_type": "code",
   "execution_count": 202,
   "metadata": {},
   "outputs": [],
   "source": [
    "predictions = best_model.predict(tfidf_feat2)"
   ]
  },
  {
   "cell_type": "code",
   "execution_count": 227,
   "metadata": {},
   "outputs": [
    {
     "data": {
      "image/png": "[encoded data removed]",
      "text/plain": [
       "<Figure size 432x288 with 1 Axes>"
      ]
     },
     "metadata": {
      "needs_background": "light"
     },
     "output_type": "display_data"
    }
   ],
   "source": [
    "plt.hist(predictions, bins=3)\n",
    "plt.show()"
   ]
  },
  {
   "cell_type": "markdown",
   "metadata": {},
   "source": [
    "### Clearly, a vast majority of ExpressionsOOZ followers are not positive about the appointment. Further analysis can be done on why these fans were not happy, and how they can be retain. Perhaps, I will explore this in a future project!"
   ]
  }
 ],
 "metadata": {
  "kernelspec": {
   "display_name": "Python 3",
   "language": "python",
   "name": "python3"
  },
  "language_info": {
   "codemirror_mode": {
    "name": "ipython",
    "version": 3
   },
   "file_extension": ".py",
   "mimetype": "text/x-python",
   "name": "python",
   "nbconvert_exporter": "python",
   "pygments_lexer": "ipython3",
   "version": "3.7.6"
  }
 },
 "nbformat": 4,
 "nbformat_minor": 4
}
